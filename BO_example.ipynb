{
 "cells": [
  {
   "cell_type": "code",
   "execution_count": null,
   "metadata": {},
   "outputs": [
    {
     "data": {
      "text/plain": [
       "<Figure size 640x480 with 1 Axes>"
      ]
     },
     "metadata": {},
     "output_type": "display_data"
    }
   ],
   "source": [
    "import gp\n",
    "import matplotlib.pyplot as plt\n",
    "import numpy as np\n",
    "\n",
    "def batch_distance(X):\n",
    "    \n",
    "    #def f(X):\n",
    "    X = np.append(A_batch, [X], axis=0)\n",
    "    num_action = np.shape(X)[0]\n",
    "    dim_action = np.shape(X)[1]\n",
    "\n",
    "    distance = 0.\n",
    "    for i in range(num_action):\n",
    "        A = np.square(X - X[i])\n",
    "        A = np.sum(A, axis = 1)\n",
    "\n",
    "        A = np.sqrt(A)\n",
    "        distance = distance + np.sum(A)\n",
    "\n",
    "    distance = distance / (num_action*(num_action-1))\n",
    "    distance = round(distance, 4)\n",
    "    return distance\n",
    "    #return f\n",
    "    \n",
    "    \n",
    "    \n",
    "num_actions = 1\n",
    "new_actions = 1\n",
    "\n",
    "#for i in range(num_actions):\n",
    "A_batch = np.random.random([num_actions,2])*2 - 1\n",
    "A_batch = np.array(A_batch)\n",
    "plt.scatter(A_batch[:, 0], A_batch[:, 1])\n",
    "plt.show()\n",
    "\n",
    "bound = np.array([[-1,1],[-1,1]])\n",
    "\n",
    "B_batch = gp.bayesian_optimisation(new_actions, batch_distance, bound)\n",
    "B_batch = np.array(B_batch)\n",
    "plt.scatter(B_batch[:, 0], B_batch[:, 1])\n",
    "plt.show()\n"
   ]
  }
 ],
 "metadata": {
  "kernelspec": {
   "display_name": "Python 2",
   "language": "python",
   "name": "python2"
  },
  "language_info": {
   "codemirror_mode": {
    "name": "ipython",
    "version": 2
   },
   "file_extension": ".py",
   "mimetype": "text/x-python",
   "name": "python",
   "nbconvert_exporter": "python",
   "pygments_lexer": "ipython2",
   "version": "2.7.13"
  }
 },
 "nbformat": 4,
 "nbformat_minor": 2
}
