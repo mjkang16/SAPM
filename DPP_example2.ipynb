{
 "cells": [
  {
   "cell_type": "code",
   "execution_count": 6,
   "metadata": {},
   "outputs": [
    {
     "data": {
      "image/png": "[encoded data removed]",
      "text/plain": [
       "<Figure size 432x288 with 1 Axes>"
      ]
     },
     "metadata": {},
     "output_type": "display_data"
    },
    {
     "data": {
      "image/png": "[encoded data removed]",
      "text/plain": [
       "<Figure size 432x288 with 1 Axes>"
      ]
     },
     "metadata": {},
     "output_type": "display_data"
    },
    {
     "name": "stdout",
     "output_type": "stream",
     "text": [
      "(1.1734, 4.235, 15.137)\n",
      "(1.0389, 6.902, 17.255)\n"
     ]
    }
   ],
   "source": [
    "import matplotlib.pyplot as plt\n",
    "import numpy as np\n",
    "import math\n",
    "import DPP\n",
    "from itertools import product\n",
    "\n",
    "def get_action_variance(A_batch):\n",
    "    A_batch = np.array(A_batch)\n",
    "    num_actions = np.shape(A_batch)[0]\n",
    "    dim_actions = np.shape(A_batch)[1]\n",
    "\n",
    "    distance = 0.\n",
    "    num = 0.\n",
    "    num2 = 0.\n",
    "    for i in range(num_actions):\n",
    "        A = np.square(A_batch - A_batch[i])\n",
    "        A = np.sum(A, axis = 1)\n",
    "\n",
    "        num = num + (A < 0.1).sum()\n",
    "        num2 = num2 + (A < 0.3).sum()\n",
    "\n",
    "        A = np.sqrt(A)\n",
    "        distance = distance + np.sum(A)\n",
    "\n",
    "    num = (num-num_actions)*100/(num_actions*(num_actions-1))\n",
    "    num = round(num, 3)\n",
    "\n",
    "    num2 = (num2-num_actions)*100/(num_actions*(num_actions-1))\n",
    "    num2 = round(num2, 3)\n",
    "\n",
    "    distance = distance / (num_actions*(num_actions-1))\n",
    "    distance = round(distance, 4)\n",
    "\n",
    "    return distance, num, num2\n",
    "\n",
    "\n",
    "num_actions = 1\n",
    "new_actions = 50\n",
    "A_batch = []\n",
    "A_batch = np.random.random([num_actions,2])*2 - 1\n",
    "A_batch = np.array(A_batch)\n",
    "\n",
    "x = np.arange(-1, 1, 0.05)\n",
    "y = np.arange(-1, 1, 0.05)\n",
    "B_batch = np.array(list(product(x, y)))\n",
    "#print(B_batch)\n",
    "\n",
    "C_batch = DPP.sample_k_2(A_batch, B_batch, 0.1, new_actions)\n",
    "plt.scatter(C_batch[:, 0], C_batch[:, 1])\n",
    "plt.show()\n",
    "\n",
    "D_batch = []\n",
    "initial = np.random.choice(range(len(B_batch)), size=new_actions, replace=False)\n",
    "X = [False] * len(B_batch)\n",
    "for i in initial:\n",
    "    X[i] = True\n",
    "X = np.array(X)    \n",
    "\n",
    "D_batch = np.array(B_batch)[X]\n",
    "D_batch = np.concatenate((A_batch, D_batch))\n",
    "plt.scatter(D_batch[:, 0], D_batch[:, 1])\n",
    "plt.show()\n",
    "\n",
    "d, n1, n2 = get_action_variance(C_batch)\n",
    "print(d, n1, n2)\n",
    "d, n1, n2 = get_action_variance(D_batch)\n",
    "print(d, n1, n2)"
   ]
  },
  {
   "cell_type": "code",
   "execution_count": 2,
   "metadata": {},
   "outputs": [
    {
     "name": "stdout",
     "output_type": "stream",
     "text": [
      "-2.0000000000000004\n"
     ]
    }
   ],
   "source": [
    "K = [[1,2],[3,4]]\n",
    "\n",
    "print(np.linalg.det(K))\n"
   ]
  }
 ],
 "metadata": {
  "kernelspec": {
   "display_name": "Python 2",
   "language": "python",
   "name": "python2"
  },
  "language_info": {
   "codemirror_mode": {
    "name": "ipython",
    "version": 2
   },
   "file_extension": ".py",
   "mimetype": "text/x-python",
   "name": "python",
   "nbconvert_exporter": "python",
   "pygments_lexer": "ipython2",
   "version": "2.7.13"
  }
 },
 "nbformat": 4,
 "nbformat_minor": 2
}
